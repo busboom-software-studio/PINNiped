{
 "cells": [
  {
   "cell_type": "markdown",
   "id": "001a4bb4",
   "metadata": {},
   "source": [
    "# PID Control of a Self-Balancing Robot Simulation"
   ]
  },
  {
   "cell_type": "markdown",
   "id": "bf038472",
   "metadata": {},
   "source": [
    "## Introduction"
   ]
  },
  {
   "cell_type": "markdown",
   "id": "ba1b4150",
   "metadata": {},
   "source": [
    "This notebook was created by [Jupyter AI](https://github.com/jupyterlab/jupyter-ai) with the following prompt:\n",
    "\n",
    "> /generate an example of a PID controller that controls the motor on a  self balancing wheeled robot. That is, the PID controller controls a motor, and the input is an acceclerometer that reports on the direction of gravity. Show a graph of the angle of gravity and control signal, where the robot is \"kicked\" half way through the simulated inputs. "
   ]
  },
  {
   "cell_type": "markdown",
   "id": "20d2cb45",
   "metadata": {},
   "source": [
    "This Jupyter notebook demonstrates the implementation of a PID controller for a self-balancing wheeled robot, utilizing input from an accelerometer to measure the direction of gravity and adjust the motor accordingly. The notebook is organized into sections that cover the setup, including the import of necessary libraries and the definition of constants; the definition of a PID controller class with methods for computing the control signal; the creation of a simulation environment that models the robot and its dynamics; and the initialization of the PID controller and simulation parameters. The core of the notebook involves running a simulation where the robot is \"kicked\" midway, and data is collected on the angle of gravity and the control signal. Finally, the collected data is visualized through graphs that display the angle of gravity and control signal over time, illustrating the PID controller's response to the disturbance."
   ]
  },
  {
   "cell_type": "markdown",
   "id": "b933c299",
   "metadata": {},
   "source": [
    "## PID Controller Class"
   ]
  },
  {
   "cell_type": "code",
   "execution_count": 1,
   "id": "3be66b02",
   "metadata": {},
   "outputs": [],
   "source": [
    "class PIDController:\n",
    "    def __init__(self, kp, ki, kd, setpoint=0):\n",
    "        self.kp = kp\n",
    "        self.ki = ki\n",
    "        self.kd = kd\n",
    "        \n",
    "        self.setpoint = setpoint\n",
    "        self.previous_error = 0\n",
    "        self.integral = 0\n",
    "        \n",
    "    def compute(self, measured_value, dt):\n",
    "        \n",
    "        error = self.setpoint - measured_value\n",
    "        \n",
    "        P = self.kp * error\n",
    "        \n",
    "        self.integral += error * dt\n",
    "        I = self.ki * self.integral\n",
    "        \n",
    "        derivative = (error - self.previous_error) / dt\n",
    "        D = self.kd * derivative\n",
    "        \n",
    "        self.previous_error = error\n",
    "        \n",
    "        return P + I + D"
   ]
  },
  {
   "cell_type": "code",
   "execution_count": null,
   "id": "da32598f",
   "metadata": {},
   "outputs": [],
   "source": []
  },
  {
   "cell_type": "code",
   "execution_count": 2,
   "id": "229b8a68",
   "metadata": {},
   "outputs": [
    {
     "name": "stdout",
     "output_type": "stream",
     "text": [
      "Control Signal: -11.1\n"
     ]
    }
   ],
   "source": [
    "pid = PIDController(kp=1.0, ki=0.1, kd=0.01, setpoint=0)\n",
    "measured_value = 10\n",
    "dt = 0.1\n",
    "control_signal = pid.compute(measured_value, dt)\n",
    "print(f\"Control Signal: {control_signal}\")"
   ]
  },
  {
   "cell_type": "markdown",
   "id": "fc11e65c",
   "metadata": {},
   "source": [
    "## Simulation Environment"
   ]
  },
  {
   "cell_type": "code",
   "execution_count": 3,
   "id": "31f1ce1c",
   "metadata": {},
   "outputs": [],
   "source": [
    "import numpy as np\n",
    "import matplotlib.pyplot as plt\n",
    "from scipy.integrate import odeint"
   ]
  },
  {
   "cell_type": "code",
   "execution_count": 4,
   "id": "1247bb0b",
   "metadata": {},
   "outputs": [],
   "source": [
    "def robot_dynamics(y, t, u, params):\n",
    "    theta, omega = y\n",
    "    g = 9.81\n",
    "    I, m, l, b = params\n",
    "\n",
    "    dtheta_dt = omega\n",
    "    domega_dt = (u - m * g * l * np.sin(theta) - b * omega) / I\n",
    "\n",
    "    return [dtheta_dt, domega_dt]"
   ]
  },
  {
   "cell_type": "code",
   "execution_count": 5,
   "id": "9ba1bf47",
   "metadata": {},
   "outputs": [],
   "source": [
    "I = 0.1\n",
    "m = 1.0\n",
    "l = 0.5\n",
    "b = 0.05\n",
    "params = (I, m, l, b)"
   ]
  },
  {
   "cell_type": "code",
   "execution_count": 6,
   "id": "f375b614",
   "metadata": {},
   "outputs": [],
   "source": [
    "t = np.linspace(0, 10, 1000)"
   ]
  },
  {
   "cell_type": "code",
   "execution_count": 7,
   "id": "76cbd7db",
   "metadata": {},
   "outputs": [],
   "source": [
    "y0 = [np.pi / 18, 0]\n",
    "u = 0\n",
    "u_values = np.zeros_like(t)"
   ]
  },
  {
   "cell_type": "code",
   "execution_count": 8,
   "id": "5d2a7c17",
   "metadata": {},
   "outputs": [],
   "source": [
    "sol = odeint(robot_dynamics, y0, t, args=(u, params))"
   ]
  },
  {
   "cell_type": "code",
   "execution_count": 9,
   "id": "990b86de",
   "metadata": {},
   "outputs": [],
   "source": [
    "kick_time = len(t) // 2\n",
    "u_values[kick_time:] = 1"
   ]
  },
  {
   "cell_type": "code",
   "execution_count": 10,
   "id": "f6e4d713",
   "metadata": {},
   "outputs": [],
   "source": [
    "sol_with_kick = np.zeros((len(t), len(y0)))\n",
    "sol_with_kick[0] = y0"
   ]
  },
  {
   "cell_type": "code",
   "execution_count": 11,
   "id": "f42e556b",
   "metadata": {},
   "outputs": [],
   "source": [
    "for i in range(1, len(t)):\n",
    "    sol_with_kick[i] = odeint(robot_dynamics, sol_with_kick[i-1], [t[i-1], t[i]], args=(u_values[i], params))[1]"
   ]
  },
  {
   "cell_type": "code",
   "execution_count": 12,
   "id": "ffe69299",
   "metadata": {},
   "outputs": [
    {
     "data": {
      "text/plain": [
       "<Figure size 1200x500 with 0 Axes>"
      ]
     },
     "execution_count": 12,
     "metadata": {},
     "output_type": "execute_result"
    },
    {
     "data": {
      "text/plain": [
       "<Figure size 1200x500 with 0 Axes>"
      ]
     },
     "metadata": {},
     "output_type": "display_data"
    }
   ],
   "source": [
    "plt.figure(figsize=(12, 5))"
   ]
  },
  {
   "cell_type": "code",
   "execution_count": 13,
   "id": "8810d9eb",
   "metadata": {},
   "outputs": [
    {
     "data": {
      "text/plain": [
       "<matplotlib.legend.Legend at 0x12f5b9d50>"
      ]
     },
     "execution_count": 13,
     "metadata": {},
     "output_type": "execute_result"
    },
    {
     "data": {
      "image/png": "[encoded data removed]",
      "text/plain": [
       "<Figure size 640x480 with 1 Axes>"
      ]
     },
     "metadata": {},
     "output_type": "display_data"
    }
   ],
   "source": [
    "plt.subplot(1, 2, 1)\n",
    "plt.plot(t, sol[:, 0], label='Without Kick')\n",
    "plt.plot(t, sol_with_kick[:, 0], label='With Kick', linestyle='--')\n",
    "plt.xlabel('Time (s)')\n",
    "plt.ylabel('Angle (rad)')\n",
    "plt.title('Angle of Gravity')\n",
    "plt.legend()"
   ]
  },
  {
   "cell_type": "code",
   "execution_count": 14,
   "id": "00867124",
   "metadata": {},
   "outputs": [
    {
     "data": {
      "text/plain": [
       "<matplotlib.legend.Legend at 0x12f661d50>"
      ]
     },
     "execution_count": 14,
     "metadata": {},
     "output_type": "execute_result"
    },
    {
     "data": {
      "image/png": "[encoded data removed]",
      "text/plain": [
       "<Figure size 640x480 with 1 Axes>"
      ]
     },
     "metadata": {},
     "output_type": "display_data"
    }
   ],
   "source": [
    "plt.subplot(1, 2, 2)\n",
    "plt.plot(t, u_values, label='Control Signal')\n",
    "plt.xlabel('Time (s)')\n",
    "plt.ylabel('Control Signal (N*m)')\n",
    "plt.title('Control Signal Over Time')\n",
    "plt.legend()"
   ]
  },
  {
   "cell_type": "code",
   "execution_count": 15,
   "id": "103fec1a",
   "metadata": {},
   "outputs": [
    {
     "data": {
      "text/plain": [
       "<Figure size 640x480 with 0 Axes>"
      ]
     },
     "metadata": {},
     "output_type": "display_data"
    }
   ],
   "source": [
    "plt.tight_layout()\n",
    "plt.show()"
   ]
  },
  {
   "cell_type": "markdown",
   "id": "fdaf7b30",
   "metadata": {},
   "source": [
    "## Initialization"
   ]
  },
  {
   "cell_type": "code",
   "execution_count": 16,
   "id": "6eef0c5e",
   "metadata": {},
   "outputs": [],
   "source": [
    "import numpy as np\n",
    "import matplotlib.pyplot as plt"
   ]
  },
  {
   "cell_type": "code",
   "execution_count": 17,
   "id": "1a802417",
   "metadata": {},
   "outputs": [],
   "source": [
    "# PID Controller parameters\n",
    "Kp, Ki, Kd = 2.0, 1.0, 0.5"
   ]
  },
  {
   "cell_type": "code",
   "execution_count": 18,
   "id": "7421a3c7",
   "metadata": {},
   "outputs": [],
   "source": [
    "# Simulation parameters\n",
    "dt, total_time = 0.01, 10\n",
    "num_steps = int(total_time / dt)"
   ]
  },
  {
   "cell_type": "code",
   "execution_count": 19,
   "id": "4b1740a7",
   "metadata": {},
   "outputs": [],
   "source": [
    "# Initialize arrays to store simulation data\n",
    "angle = np.zeros(num_steps)\n",
    "control_signal = np.zeros(num_steps)"
   ]
  },
  {
   "cell_type": "code",
   "execution_count": 20,
   "id": "d5680d87",
   "metadata": {},
   "outputs": [],
   "source": [
    "# Initial conditions\n",
    "angle[0], control_signal[0] = 0.1, 0.0"
   ]
  },
  {
   "cell_type": "code",
   "execution_count": 21,
   "id": "7472bda7",
   "metadata": {},
   "outputs": [],
   "source": [
    "# PID controller state variables\n",
    "integral, previous_error = 0.0, 0.0"
   ]
  },
  {
   "cell_type": "code",
   "execution_count": 22,
   "id": "ab98beeb",
   "metadata": {},
   "outputs": [],
   "source": [
    "# External disturbance (kick) parameters\n",
    "kick_time, kick_magnitude = total_time / 2, 0.2"
   ]
  },
  {
   "cell_type": "code",
   "execution_count": 23,
   "id": "15d3d1fd",
   "metadata": {},
   "outputs": [],
   "source": [
    "def pid_controller(setpoint, measured_value):\n",
    "    global integral, previous_error\n",
    "    \n",
    "    error = setpoint - measured_value\n",
    "    integral += error * dt\n",
    "    derivative = (error - previous_error) / dt\n",
    "    output = Kp * error + Ki * integral + Kd * derivative\n",
    "    previous_error = error\n",
    "    \n",
    "    return output"
   ]
  },
  {
   "cell_type": "code",
   "execution_count": 24,
   "id": "3800ed16",
   "metadata": {},
   "outputs": [],
   "source": [
    "def simulate_robot_response(angle, control_signal):\n",
    "    return angle + control_signal * dt"
   ]
  },
  {
   "cell_type": "code",
   "execution_count": 25,
   "id": "f3a30539",
   "metadata": {},
   "outputs": [
    {
     "name": "stdout",
     "output_type": "stream",
     "text": [
      "PID Controller Parameters: Kp=2.0, Ki=1.0, Kd=0.5\n",
      "Simulation Parameters: dt=0.01, total_time=10, num_steps=1000\n",
      "Initial Conditions: angle[0]=0.1, control_signal[0]=0.0\n",
      "Kick Parameters: kick_time=5.0, kick_magnitude=0.2\n"
     ]
    }
   ],
   "source": [
    "print(f\"PID Controller Parameters: Kp={Kp}, Ki={Ki}, Kd={Kd}\")\n",
    "print(f\"Simulation Parameters: dt={dt}, total_time={total_time}, num_steps={num_steps}\")\n",
    "print(f\"Initial Conditions: angle[0]={angle[0]}, control_signal[0]={control_signal[0]}\")\n",
    "print(f\"Kick Parameters: kick_time={kick_time}, kick_magnitude={kick_magnitude}\")"
   ]
  },
  {
   "cell_type": "markdown",
   "id": "028dd843",
   "metadata": {},
   "source": [
    "## Simulating the Robot Movement"
   ]
  },
  {
   "cell_type": "code",
   "execution_count": 26,
   "id": "5bc0e114",
   "metadata": {},
   "outputs": [],
   "source": [
    "import numpy as np\n",
    "import matplotlib.pyplot as plt\n",
    "from scipy.integrate import odeint"
   ]
  },
  {
   "cell_type": "code",
   "execution_count": 27,
   "id": "591a083b",
   "metadata": {},
   "outputs": [],
   "source": [
    "total_time = 10  # total time for the simulation in seconds\n",
    "dt = 0.01       # time step for the simulation\n",
    "time = np.arange(0, total_time + dt, dt)  # time vector"
   ]
  },
  {
   "cell_type": "code",
   "execution_count": 28,
   "id": "e211fd7b",
   "metadata": {},
   "outputs": [],
   "source": [
    "Kp = 2.0\n",
    "Ki = 0.1\n",
    "Kd = 0.5"
   ]
  },
  {
   "cell_type": "code",
   "execution_count": 29,
   "id": "e56811c7",
   "metadata": {},
   "outputs": [],
   "source": [
    "initial_angle = 0.1  # initial tilt angle in radians\n",
    "initial_angular_velocity = 0.0  # initial angular velocity"
   ]
  },
  {
   "cell_type": "code",
   "execution_count": 30,
   "id": "8a6f1559",
   "metadata": {},
   "outputs": [],
   "source": [
    "angles = []\n",
    "control_signals = []"
   ]
  },
  {
   "cell_type": "code",
   "execution_count": 31,
   "id": "67fe0635",
   "metadata": {},
   "outputs": [],
   "source": [
    "integral = 0\n",
    "previous_error = 0"
   ]
  },
  {
   "cell_type": "code",
   "execution_count": 32,
   "id": "c33dee1a",
   "metadata": {},
   "outputs": [],
   "source": [
    "def robot_dynamics(state, t, control_signal):\n",
    "    angle, angular_velocity = state\n",
    "    g = 9.81  # gravity constant\n",
    "    l = 0.5  # length to center of mass\n",
    "    I = 0.1  # moment of inertia\n",
    "    b = 0.1  # damping coefficient\n",
    "    \n",
    "    d_angle = angular_velocity\n",
    "    d_angular_velocity = (control_signal - b * angular_velocity - (g / l) * np.sin(angle)) / I\n",
    "    \n",
    "    return [d_angle, d_angular_velocity]"
   ]
  },
  {
   "cell_type": "code",
   "execution_count": 33,
   "id": "e97e1b84",
   "metadata": {},
   "outputs": [],
   "source": [
    "def pid_control(error, dt):\n",
    "    global integral, previous_error\n",
    "    integral += error * dt\n",
    "    derivative = (error - previous_error) / dt\n",
    "    control_signal = Kp * error + Ki * integral + Kd * derivative\n",
    "    previous_error = error\n",
    "    return control_signal"
   ]
  },
  {
   "cell_type": "code",
   "execution_count": 34,
   "id": "6be0e6db",
   "metadata": {},
   "outputs": [],
   "source": [
    "state = [initial_angle, initial_angular_velocity]"
   ]
  },
  {
   "cell_type": "code",
   "execution_count": 35,
   "id": "632d1859",
   "metadata": {},
   "outputs": [],
   "source": [
    "for t in time:\n",
    "    angle = state[0]\n",
    "    angular_velocity = state[1]\n",
    "    \n",
    "    error = -angle\n",
    "    \n",
    "    control_signal = pid_control(error, dt)\n",
    "    \n",
    "    angles.append(angle)\n",
    "    control_signals.append(control_signal)\n",
    "    \n",
    "    if np.isclose(t, total_time / 2, atol=dt / 2):\n",
    "        state[1] += 3.0\n",
    "    \n",
    "    state = odeint(robot_dynamics, state, [0, dt], args=(control_signal,))[1]"
   ]
  },
  {
   "cell_type": "code",
   "execution_count": 36,
   "id": "a1623851",
   "metadata": {},
   "outputs": [],
   "source": [
    "angles = np.array(angles)\n",
    "control_signals = np.array(control_signals)"
   ]
  },
  {
   "cell_type": "code",
   "execution_count": 37,
   "id": "70cb3afb",
   "metadata": {},
   "outputs": [
    {
     "data": {
      "text/plain": [
       "<Figure size 1200x600 with 0 Axes>"
      ]
     },
     "execution_count": 37,
     "metadata": {},
     "output_type": "execute_result"
    },
    {
     "data": {
      "text/plain": [
       "<Figure size 1200x600 with 0 Axes>"
      ]
     },
     "metadata": {},
     "output_type": "display_data"
    }
   ],
   "source": [
    "plt.figure(figsize=(12, 6))"
   ]
  },
  {
   "cell_type": "code",
   "execution_count": 38,
   "id": "ead8d671",
   "metadata": {},
   "outputs": [
    {
     "data": {
      "image/png": "[encoded data removed]",
      "text/plain": [
       "<Figure size 640x480 with 1 Axes>"
      ]
     },
     "metadata": {},
     "output_type": "display_data"
    }
   ],
   "source": [
    "plt.subplot(2, 1, 1)\n",
    "plt.plot(time, angles, label='Angle of Gravity (rad)')\n",
    "plt.axvline(total_time / 2, color='r', linestyle='--', label='Kick Time')\n",
    "plt.title('Angle of Gravity vs. Time')\n",
    "plt.xlabel('Time (s)')\n",
    "plt.ylabel('Angle (rad)')\n",
    "plt.legend()\n",
    "plt.grid(True)"
   ]
  },
  {
   "cell_type": "code",
   "execution_count": 39,
   "id": "4be15231",
   "metadata": {},
   "outputs": [
    {
     "data": {
      "image/png": "[encoded data removed]",
      "text/plain": [
       "<Figure size 640x480 with 1 Axes>"
      ]
     },
     "metadata": {},
     "output_type": "display_data"
    }
   ],
   "source": [
    "plt.subplot(2, 1, 2)\n",
    "plt.plot(time, control_signals, label='Control Signal')\n",
    "plt.axvline(total_time / 2, color='r', linestyle='--', label='Kick Time')\n",
    "plt.title('Control Signal vs. Time')\n",
    "plt.xlabel('Time (s)')\n",
    "plt.ylabel('Control Signal')\n",
    "plt.legend()\n",
    "plt.grid(True)"
   ]
  },
  {
   "cell_type": "code",
   "execution_count": 40,
   "id": "950e16b6",
   "metadata": {},
   "outputs": [
    {
     "data": {
      "text/plain": [
       "<Figure size 640x480 with 0 Axes>"
      ]
     },
     "metadata": {},
     "output_type": "display_data"
    }
   ],
   "source": [
    "plt.tight_layout()\n",
    "plt.show()"
   ]
  },
  {
   "cell_type": "markdown",
   "id": "8102418b",
   "metadata": {},
   "source": [
    "## Data Collection"
   ]
  },
  {
   "cell_type": "code",
   "execution_count": 41,
   "id": "6683e379",
   "metadata": {},
   "outputs": [],
   "source": [
    "import numpy as np"
   ]
  },
  {
   "cell_type": "code",
   "execution_count": 42,
   "id": "beb3ad34",
   "metadata": {},
   "outputs": [],
   "source": [
    "def collect_data(robot, duration, dt):\n",
    "    \"\"\"\n",
    "    Collect data on the angle of gravity and control signal during the simulation.\n",
    "    Parameters:\n",
    "    robot: The self-balancing robot object\n",
    "    duration: Total duration of the simulation in seconds\n",
    "    dt: Time step for data collection in seconds\n",
    "        Returns:\n",
    "    tuple: Two lists containing the collected angles and control signals\n",
    "    \"\"\"\n",
    "    angles = []\n",
    "    control_signals = []\n",
    "    time_steps = int(duration / dt)\n",
    "    \n",
    "    for step in range(time_steps):\n",
    "        current_angle = robot.get_angle()  # Get current angle of gravity from the robot\n",
    "        control_signal = robot.get_control_signal()  # Get current control signal from the robot\n",
    "        angles.append(current_angle)\n",
    "        control_signals.append(control_signal)\n",
    "        robot.update(dt)  # Simulate the robot for the next time step\n",
    "        \n",
    "    return angles, control_signals"
   ]
  },
  {
   "cell_type": "code",
   "execution_count": 43,
   "id": "0262a35c",
   "metadata": {},
   "outputs": [],
   "source": [
    "# Assuming `robot` is an instance of the self-balancing robot\n",
    "# Define simulation parameters\n",
    "simulation_duration = 10.0  # total duration of the simulation in seconds\n",
    "time_step = 0.01            # time step for data collection in seconds"
   ]
  },
  {
   "cell_type": "code",
   "execution_count": null,
   "id": "9c8d8440-a46e-460b-9173-42ff540c671c",
   "metadata": {},
   "outputs": [],
   "source": []
  },
  {
   "cell_type": "code",
   "execution_count": 50,
   "id": "73c33af3-ba97-41d2-bfe5-48f429d59c1b",
   "metadata": {},
   "outputs": [],
   "source": [
    "import numpy as np\n",
    "\n",
    "class SimulatedRobot:\n",
    "    def __init__(self):\n",
    "        self.angle = 0.0\n",
    "        self.control_signal = 0.0\n",
    "\n",
    "    def apply_control_signal(self, control_signal):\n",
    "        # Simulate applying a control signal to the robot\n",
    "        # For simplicity, let's assume the control signal directly changes the angle\n",
    "        self.angle += control_signal\n",
    "\n",
    "    def get_angle(self):\n",
    "        return self.angle\n",
    "\n",
    "    def get_control_signal(self):\n",
    "        return self.control_signal\n",
    "\n",
    "# Example usage:\n",
    "robot = SimulatedRobot()\n"
   ]
  },
  {
   "cell_type": "code",
   "execution_count": 49,
   "id": "c5609749",
   "metadata": {},
   "outputs": [
    {
     "ename": "AttributeError",
     "evalue": "'SimulatedRobot' object has no attribute 'control_signal'",
     "output_type": "error",
     "traceback": [
      "\u001b[0;31m---------------------------------------------------------------------------\u001b[0m",
      "\u001b[0;31mAttributeError\u001b[0m                            Traceback (most recent call last)",
      "Cell \u001b[0;32mIn[49], line 2\u001b[0m\n\u001b[1;32m      1\u001b[0m \u001b[38;5;66;03m# Collect data\u001b[39;00m\n\u001b[0;32m----> 2\u001b[0m angles, control_signals \u001b[38;5;241m=\u001b[39m \u001b[43mcollect_data\u001b[49m\u001b[43m(\u001b[49m\u001b[43mrobot\u001b[49m\u001b[43m,\u001b[49m\u001b[43m \u001b[49m\u001b[43msimulation_duration\u001b[49m\u001b[43m,\u001b[49m\u001b[43m \u001b[49m\u001b[43mtime_step\u001b[49m\u001b[43m)\u001b[49m\n",
      "Cell \u001b[0;32mIn[42], line 17\u001b[0m, in \u001b[0;36mcollect_data\u001b[0;34m(robot, duration, dt)\u001b[0m\n\u001b[1;32m     15\u001b[0m \u001b[38;5;28;01mfor\u001b[39;00m step \u001b[38;5;129;01min\u001b[39;00m \u001b[38;5;28mrange\u001b[39m(time_steps):\n\u001b[1;32m     16\u001b[0m     current_angle \u001b[38;5;241m=\u001b[39m robot\u001b[38;5;241m.\u001b[39mget_angle()  \u001b[38;5;66;03m# Get current angle of gravity from the robot\u001b[39;00m\n\u001b[0;32m---> 17\u001b[0m     control_signal \u001b[38;5;241m=\u001b[39m \u001b[43mrobot\u001b[49m\u001b[38;5;241;43m.\u001b[39;49m\u001b[43mget_control_signal\u001b[49m\u001b[43m(\u001b[49m\u001b[43m)\u001b[49m  \u001b[38;5;66;03m# Get current control signal from the robot\u001b[39;00m\n\u001b[1;32m     18\u001b[0m     angles\u001b[38;5;241m.\u001b[39mappend(current_angle)\n\u001b[1;32m     19\u001b[0m     control_signals\u001b[38;5;241m.\u001b[39mappend(control_signal)\n",
      "Cell \u001b[0;32mIn[48], line 16\u001b[0m, in \u001b[0;36mSimulatedRobot.get_control_signal\u001b[0;34m(self)\u001b[0m\n\u001b[1;32m     15\u001b[0m \u001b[38;5;28;01mdef\u001b[39;00m \u001b[38;5;21mget_control_signal\u001b[39m(\u001b[38;5;28mself\u001b[39m):\n\u001b[0;32m---> 16\u001b[0m     \u001b[38;5;28;01mreturn\u001b[39;00m \u001b[38;5;28;43mself\u001b[39;49m\u001b[38;5;241;43m.\u001b[39;49m\u001b[43mcontrol_signal\u001b[49m\n",
      "\u001b[0;31mAttributeError\u001b[0m: 'SimulatedRobot' object has no attribute 'control_signal'"
     ]
    }
   ],
   "source": [
    "# Collect data\n",
    "angles, control_signals = collect_data(robot, simulation_duration, time_step)"
   ]
  },
  {
   "cell_type": "markdown",
   "id": "a676e151",
   "metadata": {},
   "source": [
    "## Visualization"
   ]
  },
  {
   "cell_type": "code",
   "execution_count": null,
   "id": "f28707c6",
   "metadata": {},
   "outputs": [],
   "source": [
    "import matplotlib.pyplot as plt"
   ]
  },
  {
   "cell_type": "code",
   "execution_count": null,
   "id": "ba8c0507",
   "metadata": {},
   "outputs": [],
   "source": [
    "def plot_angle_of_gravity(time, angle_of_gravity):\n",
    "    plt.figure(figsize=(12, 6))\n",
    "    plt.plot(time, angle_of_gravity, label='Angle of Gravity')\n",
    "    plt.title('Angle of Gravity Over Time')\n",
    "    plt.xlabel('Time (s)')\n",
    "    plt.ylabel('Angle of Gravity (degrees)')\n",
    "    plt.legend()\n",
    "    plt.grid(True)\n",
    "    plt.show()"
   ]
  },
  {
   "cell_type": "code",
   "execution_count": null,
   "id": "4583bb28",
   "metadata": {},
   "outputs": [],
   "source": [
    "def plot_control_signal(time, control_signal):\n",
    "    plt.figure(figsize=(12, 6))\n",
    "    plt.plot(time, control_signal, label='Control Signal', color='orange')\n",
    "    plt.title('Control Signal Over Time')\n",
    "    plt.xlabel('Time (s)')\n",
    "    plt.ylabel('Control Signal')\n",
    "    plt.legend()\n",
    "    plt.grid(True)\n",
    "    plt.show()"
   ]
  },
  {
   "cell_type": "code",
   "execution_count": null,
   "id": "f9aa16de",
   "metadata": {},
   "outputs": [],
   "source": [
    "plot_angle_of_gravity(time, angle_of_gravity)\n",
    "plot_control_signal(time, control_signal)"
   ]
  }
 ],
 "metadata": {
  "kernelspec": {
   "display_name": "Python 3 (ipykernel)",
   "language": "python",
   "name": "python3"
  },
  "language_info": {
   "codemirror_mode": {
    "name": "ipython",
    "version": 3
   },
   "file_extension": ".py",
   "mimetype": "text/x-python",
   "name": "python",
   "nbconvert_exporter": "python",
   "pygments_lexer": "ipython3",
   "version": "3.11.6"
  }
 },
 "nbformat": 4,
 "nbformat_minor": 5
}
