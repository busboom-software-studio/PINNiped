{
 "cells": [
  {
   "cell_type": "code",
   "execution_count": 5,
   "id": "fd19c36d-c962-4ddb-b291-7732ca6c63e6",
   "metadata": {},
   "outputs": [
    {
     "data": {
      "text/plain": [
       "10"
      ]
     },
     "execution_count": 5,
     "metadata": {},
     "output_type": "execute_result"
    }
   ],
   "source": [
    "from dataclasses import dataclass, field\n",
    "\n",
    "@dataclass\n",
    "class Constants:\n",
    "    dt: float = 0.01  # Time step (s)\n",
    "    t_max: float = 30 # Max time to integrate\n",
    "    g: float = 9.81  # Gravitational acceleration (m/s^2)\n",
    "    rho: float = 1.225  # Air density (kg/m^3)\n",
    "    m: float = 0.145  # Mass (kg)\n",
    "\n",
    "    error: float = 0.01\n",
    "\n",
    "    rows2: list  = field(default_factory=list)\n",
    "\n",
    "x =  Constants(dt=10)\n",
    "x.dt"
   ]
  },
  {
   "cell_type": "code",
   "execution_count": null,
   "id": "bb90b19a-b585-4aee-a146-a54be2fdfd2c",
   "metadata": {},
   "outputs": [],
   "source": []
  }
 ],
 "metadata": {
  "kernelspec": {
   "display_name": "Python 3 (ipykernel)",
   "language": "python",
   "name": "python3"
  },
  "language_info": {
   "codemirror_mode": {
    "name": "ipython",
    "version": 3
   },
   "file_extension": ".py",
   "mimetype": "text/x-python",
   "name": "python",
   "nbconvert_exporter": "python",
   "pygments_lexer": "ipython3",
   "version": "3.12.4"
  }
 },
 "nbformat": 4,
 "nbformat_minor": 5
}
